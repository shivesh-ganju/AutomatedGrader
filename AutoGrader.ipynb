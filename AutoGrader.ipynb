{
  "nbformat": 4,
  "nbformat_minor": 0,
  "metadata": {
    "kernelspec": {
      "display_name": "Python 3",
      "language": "python",
      "name": "python3"
    },
    "language_info": {
      "codemirror_mode": {
        "name": "ipython",
        "version": 3
      },
      "file_extension": ".py",
      "mimetype": "text/x-python",
      "name": "python",
      "nbconvert_exporter": "python",
      "pygments_lexer": "ipython3",
      "version": "3.7.3"
    },
    "colab": {
      "name": "AutoGrader.ipynb",
      "provenance": [],
      "collapsed_sections": [],
      "machine_shape": "hm"
    },
    "accelerator": "GPU"
  },
  "cells": [
    {
      "cell_type": "code",
      "metadata": {
        "id": "n4QT1yY0BUDZ",
        "colab_type": "code",
        "outputId": "ded8b855-4e98-47c9-cdd4-b29792f92e1a",
        "colab": {
          "base_uri": "https://localhost:8080/",
          "height": 868
        }
      },
      "source": [
        "import gensim\n",
        "import nltk\n",
        "import pandas as pd\n",
        "import numpy as np\n",
        "from pandas import DataFrame\n",
        "import spacy\n",
        "from spacy.lang.en import English\n",
        "nlp = English()\n",
        "from gensim.test.utils import get_tmpfile\n",
        "from gensim.scripts.glove2word2vec import glove2word2vec\n",
        "from gensim.models import Word2Vec\n",
        "from gensim.models import KeyedVectors\n",
        "nltk.download(\"popular\")"
      ],
      "execution_count": 69,
      "outputs": [
        {
          "output_type": "stream",
          "text": [
            "[nltk_data] Downloading collection 'popular'\n",
            "[nltk_data]    | \n",
            "[nltk_data]    | Downloading package cmudict to /root/nltk_data...\n",
            "[nltk_data]    |   Package cmudict is already up-to-date!\n",
            "[nltk_data]    | Downloading package gazetteers to /root/nltk_data...\n",
            "[nltk_data]    |   Package gazetteers is already up-to-date!\n",
            "[nltk_data]    | Downloading package genesis to /root/nltk_data...\n",
            "[nltk_data]    |   Package genesis is already up-to-date!\n",
            "[nltk_data]    | Downloading package gutenberg to /root/nltk_data...\n",
            "[nltk_data]    |   Package gutenberg is already up-to-date!\n",
            "[nltk_data]    | Downloading package inaugural to /root/nltk_data...\n",
            "[nltk_data]    |   Package inaugural is already up-to-date!\n",
            "[nltk_data]    | Downloading package movie_reviews to\n",
            "[nltk_data]    |     /root/nltk_data...\n",
            "[nltk_data]    |   Package movie_reviews is already up-to-date!\n",
            "[nltk_data]    | Downloading package names to /root/nltk_data...\n",
            "[nltk_data]    |   Package names is already up-to-date!\n",
            "[nltk_data]    | Downloading package shakespeare to /root/nltk_data...\n",
            "[nltk_data]    |   Package shakespeare is already up-to-date!\n",
            "[nltk_data]    | Downloading package stopwords to /root/nltk_data...\n",
            "[nltk_data]    |   Package stopwords is already up-to-date!\n",
            "[nltk_data]    | Downloading package treebank to /root/nltk_data...\n",
            "[nltk_data]    |   Package treebank is already up-to-date!\n",
            "[nltk_data]    | Downloading package twitter_samples to\n",
            "[nltk_data]    |     /root/nltk_data...\n",
            "[nltk_data]    |   Package twitter_samples is already up-to-date!\n",
            "[nltk_data]    | Downloading package omw to /root/nltk_data...\n",
            "[nltk_data]    |   Package omw is already up-to-date!\n",
            "[nltk_data]    | Downloading package wordnet to /root/nltk_data...\n",
            "[nltk_data]    |   Package wordnet is already up-to-date!\n",
            "[nltk_data]    | Downloading package wordnet_ic to /root/nltk_data...\n",
            "[nltk_data]    |   Package wordnet_ic is already up-to-date!\n",
            "[nltk_data]    | Downloading package words to /root/nltk_data...\n",
            "[nltk_data]    |   Package words is already up-to-date!\n",
            "[nltk_data]    | Downloading package maxent_ne_chunker to\n",
            "[nltk_data]    |     /root/nltk_data...\n",
            "[nltk_data]    |   Package maxent_ne_chunker is already up-to-date!\n",
            "[nltk_data]    | Downloading package punkt to /root/nltk_data...\n",
            "[nltk_data]    |   Package punkt is already up-to-date!\n",
            "[nltk_data]    | Downloading package snowball_data to\n",
            "[nltk_data]    |     /root/nltk_data...\n",
            "[nltk_data]    |   Package snowball_data is already up-to-date!\n",
            "[nltk_data]    | Downloading package averaged_perceptron_tagger to\n",
            "[nltk_data]    |     /root/nltk_data...\n",
            "[nltk_data]    |   Package averaged_perceptron_tagger is already up-\n",
            "[nltk_data]    |       to-date!\n",
            "[nltk_data]    | \n",
            "[nltk_data]  Done downloading collection popular\n"
          ],
          "name": "stdout"
        },
        {
          "output_type": "execute_result",
          "data": {
            "text/plain": [
              "True"
            ]
          },
          "metadata": {
            "tags": []
          },
          "execution_count": 69
        }
      ]
    },
    {
      "cell_type": "code",
      "metadata": {
        "id": "zdXkUzMPBY3A",
        "colab_type": "code",
        "outputId": "33a6da36-744a-431e-de95-4d07395558cf",
        "colab": {
          "base_uri": "https://localhost:8080/",
          "height": 34
        }
      },
      "source": [
        "#Methods required for running the project on colab\n",
        "from google.colab import drive\n",
        "drive.mount(\"/content/drive/\")\n"
      ],
      "execution_count": 70,
      "outputs": [
        {
          "output_type": "stream",
          "text": [
            "Drive already mounted at /content/drive/; to attempt to forcibly remount, call drive.mount(\"/content/drive/\", force_remount=True).\n"
          ],
          "name": "stdout"
        }
      ]
    },
    {
      "cell_type": "code",
      "metadata": {
        "id": "CzQSmwKKBm1V",
        "colab_type": "code",
        "outputId": "fbaf3745-7b60-40af-9c8d-e46b12a43549",
        "colab": {
          "base_uri": "https://localhost:8080/",
          "height": 52
        }
      },
      "source": [
        "cd drive/My\\ Drive/asap-aes(1)"
      ],
      "execution_count": 71,
      "outputs": [
        {
          "output_type": "stream",
          "text": [
            "[Errno 2] No such file or directory: 'drive/My Drive/asap-aes(1)'\n",
            "/content/drive/My Drive/asap-aes(1)\n"
          ],
          "name": "stdout"
        }
      ]
    },
    {
      "cell_type": "code",
      "metadata": {
        "id": "1rPnp1-oBUDm",
        "colab_type": "code",
        "colab": {}
      },
      "source": [
        "#Utility function for reading Stanford's Glove vectors using gensim\n",
        "def readWordVector(tmp_file):\n",
        "    wv=KeyedVectors.load_word2vec_format(tmp_file, binary=False)\n",
        "    return wv"
      ],
      "execution_count": 0,
      "outputs": []
    },
    {
      "cell_type": "code",
      "metadata": {
        "id": "13FhrVo0BUD5",
        "colab_type": "code",
        "outputId": "af5029f2-8afc-4513-87fc-1bf13083c9b1",
        "colab": {
          "base_uri": "https://localhost:8080/",
          "height": 52
        }
      },
      "source": [
        "file=\"glove.6B.300d.txt\"\n",
        "tmp_file = get_tmpfile('temp_word2vec.txt')\n",
        "glove2word2vec(file, tmp_file)\n",
        "wv = readWordVector(tmp_file)"
      ],
      "execution_count": 74,
      "outputs": [
        {
          "output_type": "stream",
          "text": [
            "/usr/local/lib/python3.6/dist-packages/smart_open/smart_open_lib.py:253: UserWarning: This function is deprecated, use smart_open.open instead. See the migration notes for details: https://github.com/RaRe-Technologies/smart_open/blob/master/README.rst#migrating-to-the-new-open-function\n",
            "  'See the migration notes for details: %s' % _MIGRATION_NOTES_URL\n"
          ],
          "name": "stderr"
        }
      ]
    },
    {
      "cell_type": "code",
      "metadata": {
        "id": "peAj2op4BUEW",
        "colab_type": "code",
        "colab": {}
      },
      "source": [
        "data = pd.read_csv('training_set_rel3.tsv', encoding = \"ISO-8859-1\",sep='\\t')"
      ],
      "execution_count": 0,
      "outputs": []
    },
    {
      "cell_type": "code",
      "metadata": {
        "id": "SQa0GGW9cIBd",
        "colab_type": "code",
        "colab": {
          "base_uri": "https://localhost:8080/",
          "height": 674
        },
        "outputId": "7cef8916-683e-4f91-c5c9-126ec980acd9"
      },
      "source": [
        "data.head(6)"
      ],
      "execution_count": 78,
      "outputs": [
        {
          "output_type": "execute_result",
          "data": {
            "text/html": [
              "<div>\n",
              "<style scoped>\n",
              "    .dataframe tbody tr th:only-of-type {\n",
              "        vertical-align: middle;\n",
              "    }\n",
              "\n",
              "    .dataframe tbody tr th {\n",
              "        vertical-align: top;\n",
              "    }\n",
              "\n",
              "    .dataframe thead th {\n",
              "        text-align: right;\n",
              "    }\n",
              "</style>\n",
              "<table border=\"1\" class=\"dataframe\">\n",
              "  <thead>\n",
              "    <tr style=\"text-align: right;\">\n",
              "      <th></th>\n",
              "      <th>essay_id</th>\n",
              "      <th>essay_set</th>\n",
              "      <th>essay</th>\n",
              "      <th>rater1_domain1</th>\n",
              "      <th>rater2_domain1</th>\n",
              "      <th>rater3_domain1</th>\n",
              "      <th>domain1_score</th>\n",
              "      <th>rater1_domain2</th>\n",
              "      <th>rater2_domain2</th>\n",
              "      <th>domain2_score</th>\n",
              "      <th>rater1_trait1</th>\n",
              "      <th>rater1_trait2</th>\n",
              "      <th>rater1_trait3</th>\n",
              "      <th>rater1_trait4</th>\n",
              "      <th>rater1_trait5</th>\n",
              "      <th>rater1_trait6</th>\n",
              "      <th>rater2_trait1</th>\n",
              "      <th>rater2_trait2</th>\n",
              "      <th>rater2_trait3</th>\n",
              "      <th>rater2_trait4</th>\n",
              "      <th>rater2_trait5</th>\n",
              "      <th>rater2_trait6</th>\n",
              "      <th>rater3_trait1</th>\n",
              "      <th>rater3_trait2</th>\n",
              "      <th>rater3_trait3</th>\n",
              "      <th>rater3_trait4</th>\n",
              "      <th>rater3_trait5</th>\n",
              "      <th>rater3_trait6</th>\n",
              "    </tr>\n",
              "  </thead>\n",
              "  <tbody>\n",
              "    <tr>\n",
              "      <th>0</th>\n",
              "      <td>1</td>\n",
              "      <td>1</td>\n",
              "      <td>Dear local newspaper, I think effects computer...</td>\n",
              "      <td>4</td>\n",
              "      <td>4</td>\n",
              "      <td>NaN</td>\n",
              "      <td>8</td>\n",
              "      <td>NaN</td>\n",
              "      <td>NaN</td>\n",
              "      <td>NaN</td>\n",
              "      <td>NaN</td>\n",
              "      <td>NaN</td>\n",
              "      <td>NaN</td>\n",
              "      <td>NaN</td>\n",
              "      <td>NaN</td>\n",
              "      <td>NaN</td>\n",
              "      <td>NaN</td>\n",
              "      <td>NaN</td>\n",
              "      <td>NaN</td>\n",
              "      <td>NaN</td>\n",
              "      <td>NaN</td>\n",
              "      <td>NaN</td>\n",
              "      <td>NaN</td>\n",
              "      <td>NaN</td>\n",
              "      <td>NaN</td>\n",
              "      <td>NaN</td>\n",
              "      <td>NaN</td>\n",
              "      <td>NaN</td>\n",
              "    </tr>\n",
              "    <tr>\n",
              "      <th>1</th>\n",
              "      <td>2</td>\n",
              "      <td>1</td>\n",
              "      <td>Dear @CAPS1 @CAPS2, I believe that using compu...</td>\n",
              "      <td>5</td>\n",
              "      <td>4</td>\n",
              "      <td>NaN</td>\n",
              "      <td>9</td>\n",
              "      <td>NaN</td>\n",
              "      <td>NaN</td>\n",
              "      <td>NaN</td>\n",
              "      <td>NaN</td>\n",
              "      <td>NaN</td>\n",
              "      <td>NaN</td>\n",
              "      <td>NaN</td>\n",
              "      <td>NaN</td>\n",
              "      <td>NaN</td>\n",
              "      <td>NaN</td>\n",
              "      <td>NaN</td>\n",
              "      <td>NaN</td>\n",
              "      <td>NaN</td>\n",
              "      <td>NaN</td>\n",
              "      <td>NaN</td>\n",
              "      <td>NaN</td>\n",
              "      <td>NaN</td>\n",
              "      <td>NaN</td>\n",
              "      <td>NaN</td>\n",
              "      <td>NaN</td>\n",
              "      <td>NaN</td>\n",
              "    </tr>\n",
              "    <tr>\n",
              "      <th>2</th>\n",
              "      <td>3</td>\n",
              "      <td>1</td>\n",
              "      <td>Dear, @CAPS1 @CAPS2 @CAPS3 More and more peopl...</td>\n",
              "      <td>4</td>\n",
              "      <td>3</td>\n",
              "      <td>NaN</td>\n",
              "      <td>7</td>\n",
              "      <td>NaN</td>\n",
              "      <td>NaN</td>\n",
              "      <td>NaN</td>\n",
              "      <td>NaN</td>\n",
              "      <td>NaN</td>\n",
              "      <td>NaN</td>\n",
              "      <td>NaN</td>\n",
              "      <td>NaN</td>\n",
              "      <td>NaN</td>\n",
              "      <td>NaN</td>\n",
              "      <td>NaN</td>\n",
              "      <td>NaN</td>\n",
              "      <td>NaN</td>\n",
              "      <td>NaN</td>\n",
              "      <td>NaN</td>\n",
              "      <td>NaN</td>\n",
              "      <td>NaN</td>\n",
              "      <td>NaN</td>\n",
              "      <td>NaN</td>\n",
              "      <td>NaN</td>\n",
              "      <td>NaN</td>\n",
              "    </tr>\n",
              "    <tr>\n",
              "      <th>3</th>\n",
              "      <td>4</td>\n",
              "      <td>1</td>\n",
              "      <td>Dear Local Newspaper, @CAPS1 I have found that...</td>\n",
              "      <td>5</td>\n",
              "      <td>5</td>\n",
              "      <td>NaN</td>\n",
              "      <td>10</td>\n",
              "      <td>NaN</td>\n",
              "      <td>NaN</td>\n",
              "      <td>NaN</td>\n",
              "      <td>NaN</td>\n",
              "      <td>NaN</td>\n",
              "      <td>NaN</td>\n",
              "      <td>NaN</td>\n",
              "      <td>NaN</td>\n",
              "      <td>NaN</td>\n",
              "      <td>NaN</td>\n",
              "      <td>NaN</td>\n",
              "      <td>NaN</td>\n",
              "      <td>NaN</td>\n",
              "      <td>NaN</td>\n",
              "      <td>NaN</td>\n",
              "      <td>NaN</td>\n",
              "      <td>NaN</td>\n",
              "      <td>NaN</td>\n",
              "      <td>NaN</td>\n",
              "      <td>NaN</td>\n",
              "      <td>NaN</td>\n",
              "    </tr>\n",
              "    <tr>\n",
              "      <th>4</th>\n",
              "      <td>5</td>\n",
              "      <td>1</td>\n",
              "      <td>Dear @LOCATION1, I know having computers has a...</td>\n",
              "      <td>4</td>\n",
              "      <td>4</td>\n",
              "      <td>NaN</td>\n",
              "      <td>8</td>\n",
              "      <td>NaN</td>\n",
              "      <td>NaN</td>\n",
              "      <td>NaN</td>\n",
              "      <td>NaN</td>\n",
              "      <td>NaN</td>\n",
              "      <td>NaN</td>\n",
              "      <td>NaN</td>\n",
              "      <td>NaN</td>\n",
              "      <td>NaN</td>\n",
              "      <td>NaN</td>\n",
              "      <td>NaN</td>\n",
              "      <td>NaN</td>\n",
              "      <td>NaN</td>\n",
              "      <td>NaN</td>\n",
              "      <td>NaN</td>\n",
              "      <td>NaN</td>\n",
              "      <td>NaN</td>\n",
              "      <td>NaN</td>\n",
              "      <td>NaN</td>\n",
              "      <td>NaN</td>\n",
              "      <td>NaN</td>\n",
              "    </tr>\n",
              "    <tr>\n",
              "      <th>5</th>\n",
              "      <td>6</td>\n",
              "      <td>1</td>\n",
              "      <td>Dear @LOCATION1, I think that computers have a...</td>\n",
              "      <td>4</td>\n",
              "      <td>4</td>\n",
              "      <td>NaN</td>\n",
              "      <td>8</td>\n",
              "      <td>NaN</td>\n",
              "      <td>NaN</td>\n",
              "      <td>NaN</td>\n",
              "      <td>NaN</td>\n",
              "      <td>NaN</td>\n",
              "      <td>NaN</td>\n",
              "      <td>NaN</td>\n",
              "      <td>NaN</td>\n",
              "      <td>NaN</td>\n",
              "      <td>NaN</td>\n",
              "      <td>NaN</td>\n",
              "      <td>NaN</td>\n",
              "      <td>NaN</td>\n",
              "      <td>NaN</td>\n",
              "      <td>NaN</td>\n",
              "      <td>NaN</td>\n",
              "      <td>NaN</td>\n",
              "      <td>NaN</td>\n",
              "      <td>NaN</td>\n",
              "      <td>NaN</td>\n",
              "      <td>NaN</td>\n",
              "    </tr>\n",
              "  </tbody>\n",
              "</table>\n",
              "</div>"
            ],
            "text/plain": [
              "   essay_id  essay_set  ... rater3_trait5  rater3_trait6\n",
              "0         1          1  ...           NaN            NaN\n",
              "1         2          1  ...           NaN            NaN\n",
              "2         3          1  ...           NaN            NaN\n",
              "3         4          1  ...           NaN            NaN\n",
              "4         5          1  ...           NaN            NaN\n",
              "5         6          1  ...           NaN            NaN\n",
              "\n",
              "[6 rows x 28 columns]"
            ]
          },
          "metadata": {
            "tags": []
          },
          "execution_count": 78
        }
      ]
    },
    {
      "cell_type": "code",
      "metadata": {
        "id": "BX9wPpKQBUEd",
        "colab_type": "code",
        "colab": {}
      },
      "source": [
        "#Removing unnecessary columns since only domain1 score is required\n",
        "y=data['domain1_score']\n",
        "data=data.dropna(axis=1)\n",
        "data=data.drop(axis=1,columns=['rater1_domain1','rater2_domain1'])"
      ],
      "execution_count": 0,
      "outputs": []
    },
    {
      "cell_type": "code",
      "metadata": {
        "id": "IAo5Mu9qBUEj",
        "colab_type": "code",
        "colab": {}
      },
      "source": [
        "#As picked up from essay_set_description.xlsx\n",
        "maximum_domain1_score=np.array([2,1,0,0,0,0,0,0])\n",
        "minimum_domain1_score=np.array([12,6,3,3,4,4,30,60])"
      ],
      "execution_count": 0,
      "outputs": []
    },
    {
      "cell_type": "code",
      "metadata": {
        "id": "H4enR7V9BUEo",
        "colab_type": "code",
        "colab": {}
      },
      "source": [
        "#Using Pythons Natural language library NLTK for getting the stopwords\n",
        "stopwords = nltk.corpus.stopwords.words('english')\n",
        "stopwords = [w.lower() for w in stopwords]\n",
        "tagged_labels = [\"PERSON\",\"ORGANIZATION\",\"LOCATION\",\"DATE\",\"TIME\",\"MONEY\",\"PERCENT\",\"CAPS\",\"NUM\"]"
      ],
      "execution_count": 0,
      "outputs": []
    },
    {
      "cell_type": "code",
      "metadata": {
        "id": "bQQCRQCoBUEz",
        "colab_type": "code",
        "colab": {}
      },
      "source": [
        "from nltk import sent_tokenize, word_tokenize\n",
        "import re\n",
        "import string\n",
        "#Split one essay to multiple sentences\n",
        "#1D essay -> 2D Sentences\n",
        "def split_sentence(essay):\n",
        "  sentences = sent_tokenize(essay)\n",
        "  return sentences\n",
        "  "
      ],
      "execution_count": 0,
      "outputs": []
    },
    {
      "cell_type": "code",
      "metadata": {
        "id": "UYxhgsAD4-_Z",
        "colab_type": "code",
        "colab": {}
      },
      "source": [
        "#Utility method to check if the word is tagged using NER in the dataset\n",
        "def check_tagged_label(word):\n",
        "    for w in tagged_labels:\n",
        "        if w in word:\n",
        "            return True\n",
        "    return False"
      ],
      "execution_count": 0,
      "outputs": []
    },
    {
      "cell_type": "code",
      "metadata": {
        "id": "I7oToEj4BUE6",
        "colab_type": "code",
        "colab": {}
      },
      "source": [
        "#Converting essay into words using a tokenizer trained on the training set\n",
        "def essay_to_words(essay):\n",
        "    sentence=[]\n",
        "    words =tokenizer(essay)\n",
        "    for word in words :\n",
        "        if not word.lower() in stopwords and not check_tagged_label(word):\n",
        "            sentence.append(word.lower())\n",
        "    return sentence\n",
        "    "
      ],
      "execution_count": 0,
      "outputs": []
    },
    {
      "cell_type": "code",
      "metadata": {
        "id": "5P9J5--SBUE_",
        "colab_type": "code",
        "colab": {}
      },
      "source": [
        "#Converting all the essays into a list of words used in training\n",
        "def create_sentence_vocab(essays):\n",
        "    result = []\n",
        "    for essay in essays:\n",
        "        sentence = essay_to_words(essay)\n",
        "        result.append(sentence)\n",
        "    return result"
      ],
      "execution_count": 0,
      "outputs": []
    },
    {
      "cell_type": "code",
      "metadata": {
        "id": "930-9gkezJVS",
        "colab_type": "code",
        "colab": {}
      },
      "source": [
        "#Converting the tokenized data to word index data so that it can be used to train our neural network\n",
        "def create_essay_to_word_index(essays):\n",
        "    output=[]\n",
        "    maxlen=0\n",
        "    for sequences in essays: \n",
        "        sequence = tokenizer(sequences)\n",
        "        indices=[]\n",
        "        for word in sequence:\n",
        "            if not word.lower() in stopwords and not check_tagged_label(word):\n",
        "              if word.lower() in vectorizer.vocabulary_:\n",
        "                indices.append(vectorizer.vocabulary_[word.lower()])\n",
        "              else:\n",
        "                indices.append(vectorizer.vocabulary_[\"OOV\"])\n",
        "        maxlen=max(maxlen,len(indices))\n",
        "        output.append(indices)\n",
        "    return output,maxlen"
      ],
      "execution_count": 0,
      "outputs": []
    },
    {
      "cell_type": "code",
      "metadata": {
        "id": "clValJp_BUFI",
        "colab_type": "code",
        "colab": {}
      },
      "source": [
        "#-----------------------------------TF-IDF Model------------------------------------------------------#"
      ],
      "execution_count": 0,
      "outputs": []
    },
    {
      "cell_type": "code",
      "metadata": {
        "id": "B6u95LoDBUFN",
        "colab_type": "code",
        "colab": {}
      },
      "source": [
        "#creating the tokenizer for the entire training data\n",
        "from sklearn.feature_extraction.text import TfidfVectorizer\n",
        "vectorizer = TfidfVectorizer(analyzer='word',min_df=1,lowercase=True,stop_words=stopwords,smooth_idf=True,sublinear_tf=True)\n",
        "X=vectorizer.fit_transform(data['essay'])\n",
        "tf_idf = pd.DataFrame(X.toarray(),columns=vectorizer.get_feature_names())\n"
      ],
      "execution_count": 0,
      "outputs": []
    },
    {
      "cell_type": "code",
      "metadata": {
        "id": "iFH7MxvBBUFV",
        "colab_type": "code",
        "colab": {}
      },
      "source": [
        "len1=X.toarray().shape[0]"
      ],
      "execution_count": 0,
      "outputs": []
    },
    {
      "cell_type": "code",
      "metadata": {
        "id": "Sty9EkKHBUFZ",
        "colab_type": "code",
        "colab": {}
      },
      "source": [
        "#Initialising the tokenizer\n",
        "tokenizer =vectorizer.build_tokenizer()"
      ],
      "execution_count": 0,
      "outputs": []
    },
    {
      "cell_type": "code",
      "metadata": {
        "id": "pxeY-oiYBUFh",
        "colab_type": "code",
        "colab": {}
      },
      "source": [
        "def get_essay_tfidf(essay):\n",
        "    sentences = tokenizer(essay)\n",
        "    feature_vector=np.zeros((len1,1))\n",
        "    count=0\n",
        "    for w in sentences:\n",
        "        if not w.lower() in stopwords and w in vectorizer.vocabulary_: \n",
        "            feature_vector=feature_vector+tf_idf[w.lower()].values.reshape(-1,1)\n",
        "            count=count+1\n",
        "    return feature_vector/count"
      ],
      "execution_count": 0,
      "outputs": []
    },
    {
      "cell_type": "code",
      "metadata": {
        "id": "XkMuYDolBUFm",
        "colab_type": "code",
        "colab": {}
      },
      "source": [
        "def create_training_data(essays):\n",
        "    train=[]\n",
        "    for essay in essays:\n",
        "        essay_vector = get_essay_tfidf(essay).tolist()\n",
        "        train.append(essay_vector)\n",
        "    return train"
      ],
      "execution_count": 0,
      "outputs": []
    },
    {
      "cell_type": "code",
      "metadata": {
        "id": "mJBAb4RBBUFq",
        "colab_type": "code",
        "colab": {
          "base_uri": "https://localhost:8080/",
          "height": 52
        },
        "outputId": "c20d25b9-4a91-46bb-f0d5-ab44ca79ea2f"
      },
      "source": [
        "#Generating the word vectors using TF-IDF method\n",
        "train_tfidf=create_training_data(data['essay'])"
      ],
      "execution_count": 95,
      "outputs": [
        {
          "output_type": "stream",
          "text": [
            "/usr/local/lib/python3.6/dist-packages/ipykernel_launcher.py:9: RuntimeWarning: invalid value encountered in true_divide\n",
            "  if __name__ == '__main__':\n"
          ],
          "name": "stderr"
        }
      ]
    },
    {
      "cell_type": "code",
      "metadata": {
        "id": "naCsjxhGBUGG",
        "colab_type": "code",
        "colab": {}
      },
      "source": [
        "#---------------------------Pre trained Word2Vec model ---------------------------------------#"
      ],
      "execution_count": 0,
      "outputs": []
    },
    {
      "cell_type": "code",
      "metadata": {
        "id": "88d8Mq0zBUGK",
        "colab_type": "code",
        "colab": {}
      },
      "source": [
        "#Getting the word vectors from pretrained word embeddings\n",
        "def get_pretrained_word2vec_essay(wv,essay,dimension):\n",
        "    words = essay_to_words(essay)\n",
        "    feature_vector = np.zeros((1,dimension))\n",
        "    count=0\n",
        "    for word in words:\n",
        "        if word.lower() in wv:\n",
        "            feature_vector=np.add(feature_vector,wv[word.lower()])\n",
        "            count=count+1\n",
        "    return feature_vector/count"
      ],
      "execution_count": 0,
      "outputs": []
    },
    {
      "cell_type": "code",
      "metadata": {
        "id": "t8_Pc0hgBUGO",
        "colab_type": "code",
        "colab": {}
      },
      "source": [
        "def create_training_data_pretrained(wv,essays):\n",
        "    essay = []\n",
        "    for e in essays:\n",
        "        essay.append(vector.tolist())\n",
        "    return np.array(essay)"
      ],
      "execution_count": 0,
      "outputs": []
    },
    {
      "cell_type": "code",
      "metadata": {
        "id": "RwxJfp53oaao",
        "colab_type": "code",
        "colab": {}
      },
      "source": [
        "#Generating the pretrained word vectors\n",
        "train_pretrained=create_training_data_pretrained(wv,data['essay'])"
      ],
      "execution_count": 0,
      "outputs": []
    },
    {
      "cell_type": "code",
      "metadata": {
        "id": "ZgRceblSBUGX",
        "colab_type": "code",
        "colab": {}
      },
      "source": [
        "#------------------------------------ Trained word2vec model--------------------------------------------------#\n"
      ],
      "execution_count": 0,
      "outputs": []
    },
    {
      "cell_type": "code",
      "metadata": {
        "id": "WofLvfWeBUGf",
        "colab_type": "code",
        "colab": {}
      },
      "source": [
        "#---------------------- Training the word2vec model provided by gensim---------------------------#\n",
        "def train_model(corpus,window,workers,min_count,features,sample):\n",
        "    model = Word2Vec(corpus,size=features,min_count=min_count,workers=workers,window=window,sample=sample)\n",
        "    return model"
      ],
      "execution_count": 0,
      "outputs": []
    },
    {
      "cell_type": "code",
      "metadata": {
        "id": "_yWFLGEzBUGh",
        "colab_type": "code",
        "colab": {}
      },
      "source": [
        "#------------------------Training the model-----------------#\n",
        "model = train_model(training_corpus,10,4,1,300,1e-3)"
      ],
      "execution_count": 0,
      "outputs": []
    },
    {
      "cell_type": "code",
      "metadata": {
        "id": "xYL7E1j6BUGm",
        "colab_type": "code",
        "colab": {}
      },
      "source": [
        "#-------------Generating word vectors----------------------------------#\n",
        "train_trained=create_training_data_pretrained(model.wv,data['essay'])"
      ],
      "execution_count": 0,
      "outputs": []
    },
    {
      "cell_type": "code",
      "metadata": {
        "id": "dD8ySNJBU0mQ",
        "colab_type": "code",
        "colab": {
          "base_uri": "https://localhost:8080/",
          "height": 34
        },
        "outputId": "e4d3775c-b93a-4a6a-daf6-b4013cb072b8"
      },
      "source": [
        "#------------------------------------Preprocessing words for Embedding layer-----------------#\n",
        "from keras.preprocessing.text import Tokenizer\n",
        "from keras.preprocessing.sequence import pad_sequences\n",
        "def convert_tokens_to_integers(essays,m=0):\n",
        "  corpora,maxlen=create_essay_to_word_index(essays)\n",
        "  if(m!=0):\n",
        "    maxlen=m\n",
        "  padded = pad_sequences(corpora, maxlen=maxlen,padding='post',truncating='post')\n",
        "  return np.array(padded),maxlen"
      ],
      "execution_count": 16,
      "outputs": [
        {
          "output_type": "stream",
          "text": [
            "Using TensorFlow backend.\n"
          ],
          "name": "stderr"
        }
      ]
    },
    {
      "cell_type": "code",
      "metadata": {
        "id": "nxPvahGnxIo0",
        "colab_type": "code",
        "colab": {}
      },
      "source": [
        "def create_embedding_matrix(wv):\n",
        "  embedding_matrix=np.zeros((len(vectorizer.vocabulary_),300))\n",
        "  for word in vectorizer.vocabulary_:\n",
        "    if(not check_tagged_label(word.upper())):\n",
        "      if word.lower() in wv: \n",
        "        embedding_matrix[vectorizer.vocabulary_[word]]=wv[word]\n",
        "  return embedding_matrix"
      ],
      "execution_count": 0,
      "outputs": []
    },
    {
      "cell_type": "code",
      "metadata": {
        "id": "sqW_AY_f2s_M",
        "colab_type": "code",
        "colab": {}
      },
      "source": [
        "#---------creating the embedding matrix using the trained word2vec model for Embedding Layer----------------------#\n",
        "a=create_embedding_matrix(model.wv)"
      ],
      "execution_count": 0,
      "outputs": []
    },
    {
      "cell_type": "code",
      "metadata": {
        "id": "DbR2Qa0W8ogp",
        "colab_type": "code",
        "colab": {}
      },
      "source": [
        "test=convert_tokens_to_integers(data['essay'])"
      ],
      "execution_count": 0,
      "outputs": []
    },
    {
      "cell_type": "code",
      "metadata": {
        "id": "Y35csxZNBUGu",
        "colab_type": "code",
        "colab": {}
      },
      "source": [
        "#------------------------------model-----------------------------------------#"
      ],
      "execution_count": 0,
      "outputs": []
    },
    {
      "cell_type": "code",
      "metadata": {
        "id": "OUFhDshHKHjQ",
        "colab_type": "code",
        "colab": {}
      },
      "source": [
        "import tensorflow\n",
        "from tensorflow import keras\n",
        "from keras.layers import Embedding, LSTM, Dense, Dropout, Bidirectional, Flatten, GRU, SimpleRNN,Conv1D,MaxPooling1D\n",
        "from keras.models import Sequential, load_model, model_from_config"
      ],
      "execution_count": 0,
      "outputs": []
    },
    {
      "cell_type": "code",
      "metadata": {
        "id": "JaJ8E-m4KRmx",
        "colab_type": "code",
        "colab": {}
      },
      "source": [
        "def get_model(hidden_layer_units1=300,hidden_layer_units2=64,use_embeddings=False,use_lstm=False,use_GRU=False,use_RNN=False,use_conv=False,use_bidirection=False,input_shape=[],maxlen=512):\n",
        "  model = Sequential()\n",
        "  vocabulary_size=len(vectorizer.vocabulary_.keys())\n",
        "  embedding_dimension=300\n",
        "  if(use_embeddings):\n",
        "    model.add(Embedding(vocabulary_size, embedding_dimension,weights=[a], input_length=maxlen, mask_zero=False))\n",
        "  if use_conv:\n",
        "    model.add(Conv1D(filters=50, kernel_size=5, padding='same'))\n",
        "    model.add(MaxPooling1D(2))\n",
        "    model.add(Flatten())\n",
        "  if use_lstm:\n",
        "    if use_bidirection:\n",
        "      model.add(Bidirectional(LSTM(hidden_layer_units1, dropout=0.4, recurrent_dropout=0.3, input_shape=input_shape, return_sequences=True)))\n",
        "      model.add(Bidirectional(LSTM(hidden_layer_units2, recurrent_dropout=0.3)))\n",
        "    else:\n",
        "      model.add(LSTM(hidden_layer_units1, dropout=0.4, recurrent_dropout=0.4, input_shape=input_shape, return_sequences=True))\n",
        "      model.add(LSTM(hidden_layer_units2, recurrent_dropout=0.4))\n",
        "  if use_RNN:\n",
        "    if use_bidirection:\n",
        "      model.add(Bidirectional(SimpleRNN(300, input_shape=input_shape, return_sequences=True)))\n",
        "      model.add(Bidirectional(SimpleRNN(64)))\n",
        "    else:\n",
        "      model.add(SimpleRNN(300,input_shape=input_shape, return_sequences=True))\n",
        "      model.add(SimpleRNN(64))\n",
        "  if use_GRU:\n",
        "    if use_bidirection:\n",
        "      model.add(Bidirectional(GRU(300, input_shape=input_shape, return_sequences=True)))\n",
        "      model.add(Bidirectional(GRU(64)))\n",
        "    else:\n",
        "      model.add(GRU(300, dropout=0.4, recurrent_dropout=0.4, input_shape=input_shape, return_sequences=True))\n",
        "      model.add(GRU(64,recurrent_dropout=0.4))\n",
        "  model.add(Dropout(0.3))\n",
        "  model.add(Dense(1, activation='relu'))\n",
        "  model.compile(loss='mean_squared_error', optimizer='adam', metrics=['mae'])\n",
        "  return model"
      ],
      "execution_count": 0,
      "outputs": []
    },
    {
      "cell_type": "code",
      "metadata": {
        "id": "r4mxfqdPLDKY",
        "colab_type": "code",
        "colab": {}
      },
      "source": [
        "model=get_model(use_conv=False,use_GRU=True,use_bidirection=True,input_shape=train_trained.shape)"
      ],
      "execution_count": 0,
      "outputs": []
    },
    {
      "cell_type": "code",
      "metadata": {
        "id": "bRq2ayk3LPW_",
        "colab_type": "code",
        "outputId": "59ba927b-aa81-431f-93ac-4b3523e4d7f6",
        "colab": {
          "base_uri": "https://localhost:8080/",
          "height": 406
        }
      },
      "source": [
        "#Trainng the neural net model using the trained word2vec model to get a training error estimate-------------------------#\n",
        "model.fit(train_trained,y,batch_size=100,epochs=10)"
      ],
      "execution_count": 0,
      "outputs": [
        {
          "output_type": "stream",
          "text": [
            "Epoch 1/10\n",
            "12976/12976 [==============================] - 5s 388us/step - loss: 38.4803 - mae: 3.7407\n",
            "Epoch 2/10\n",
            "12976/12976 [==============================] - 4s 276us/step - loss: 14.3028 - mae: 2.5346\n",
            "Epoch 3/10\n",
            "12976/12976 [==============================] - 4s 276us/step - loss: 10.5847 - mae: 2.3069\n",
            "Epoch 4/10\n",
            "12976/12976 [==============================] - 4s 277us/step - loss: 9.7027 - mae: 2.2324\n",
            "Epoch 5/10\n",
            "12976/12976 [==============================] - 4s 279us/step - loss: 9.1234 - mae: 2.1915\n",
            "Epoch 6/10\n",
            "12976/12976 [==============================] - 4s 275us/step - loss: 8.6152 - mae: 2.1543\n",
            "Epoch 7/10\n",
            "12976/12976 [==============================] - 4s 282us/step - loss: 8.4949 - mae: 2.1321\n",
            "Epoch 8/10\n",
            "12976/12976 [==============================] - 4s 288us/step - loss: 8.2660 - mae: 2.1143\n",
            "Epoch 9/10\n",
            "12976/12976 [==============================] - 4s 289us/step - loss: 8.1882 - mae: 2.1180\n",
            "Epoch 10/10\n",
            "12976/12976 [==============================] - 4s 285us/step - loss: 7.9282 - mae: 2.0937\n"
          ],
          "name": "stdout"
        },
        {
          "output_type": "execute_result",
          "data": {
            "text/plain": [
              "<keras.callbacks.callbacks.History at 0x7f9843936438>"
            ]
          },
          "metadata": {
            "tags": []
          },
          "execution_count": 189
        }
      ]
    },
    {
      "cell_type": "code",
      "metadata": {
        "id": "SJW9aV3fpq6q",
        "colab_type": "code",
        "colab": {}
      },
      "source": [
        "#--------------------------------------- Hyper parameter tuning -------------------------------------------#\n",
        "from keras.wrappers.scikit_learn import KerasRegressor\n",
        "from sklearn.model_selection import GridSearchCV\n",
        "epochs=[50]\n",
        "hidden1=[300,400,500]\n",
        "hidden2=[32,64,128]\n",
        "param_grid=dict(epochs=epochs,hidden_layer_units1=hidden1,hidden_layer_units2=hidden2)\n",
        "m = KerasRegressor(build_fn=get_model,use_lstm=True,use_bidirection=True)\n",
        "grid = GridSearchCV(estimator=m,param_grid=param_grid,n_jobs=-1,cv=3)\n",
        "grid_result=grid.fit(train_trained,y)\n",
        "grid_result.best_params_"
      ],
      "execution_count": 0,
      "outputs": []
    },
    {
      "cell_type": "code",
      "metadata": {
        "id": "HvmwUXurqLrx",
        "colab_type": "code",
        "colab": {}
      },
      "source": [
        "#--------------------------------- Training ---------------------------#\n",
        "from sklearn.model_selection import KFold\n",
        "from sklearn.metrics import cohen_kappa_score\n",
        "from sklearn.feature_extraction.text import TfidfVectorizer\n",
        "import pickle\n",
        "cv = KFold(n_splits=5,shuffle=True)\n",
        "kappa_score_pretrain=[]\n",
        "kappa_score_train=[]\n",
        "kappa_score_embedding=[]\n",
        "check=0\n",
        "for train,test in cv.split(data):\n",
        "  if check==1:\n",
        "    break\n",
        "  data_test,data_train,y_test,y_train = data.iloc[test],data.iloc[train],y.iloc[test],y.iloc[train]\n",
        "  train = data_train['essay']\n",
        "  test = data_test['essay']\n",
        "#--------------- Pretrained vectors------------------#\n",
        "  train_pretrained=create_training_data_pretrained(wv,train)\n",
        "  test_pretrained=create_training_data_pretrained(wv,test)\n",
        "  print(train_pretrained.shape)\n",
        "#-------------------------- Trained vectors---------------#\n",
        "  vectorizer = TfidfVectorizer(analyzer='word',min_df=1,lowercase=True,stop_words=stopwords,smooth_idf=True,sublinear_tf=True)\n",
        "  X=vectorizer.fit_transform(train)\n",
        "  vocab_size = len(vectorizer.vocabulary_.keys())\n",
        "  vectorizer.vocabulary_['OOV']=vocab_size\n",
        "  tokenizer =vectorizer.build_tokenizer()\n",
        "  training_corpus=create_sentence_vocab(train)\n",
        "  word2vec = train_model(training_corpus,10,4,1,300,1e-3)\n",
        "  train_trained = create_training_data_pretrained(word2vec.wv,train)\n",
        "  test_trained = create_training_data_pretrained(word2vec.wv,test)\n",
        "#----------------------------Embedding vectors-------------------#\n",
        "  a=create_embedding_matrix(word2vec.wv)\n",
        "  train_embedding,maxlen=convert_tokens_to_integers(train)\n",
        "  test_embedding=convert_tokens_to_integers(test,m=maxlen)\n",
        "#------------------------------- Define models----------------------------#\n",
        "  model1 = get_model(use_lstm=True,input_shape=[1,300])\n",
        "  model2 = get_model(use_GRU=True,use_bidirection=True,input_shape=[1,300])\n",
        "  model3 = get_model(use_lstm=True,use_bidirection=True,input_shape=[1,300])\n",
        "  model4 = get_model(use_RNN=True,use_bidirection=True,input_shape=[1,300])\n",
        "  model5 = get_model(use_embeddings=True,use_lstm=True,use_bidirection=True)\n",
        "#--------------------------------Pretrained training and testing----------#\n",
        "  model1.fit(train_pretrained,y_train,batch_size=64,epochs=50)\n",
        "  ypred_1 = model1.predict(test_pretrained)\n",
        "  ypred_1 = np.around(ypred_1)\n",
        "  result1 = cohen_kappa_score(y_test,ypred_1,weights='quadratic')\n",
        "  kappa_score_pretrain.append(result1)\n",
        "  model2.fit(train_pretrained,y_train.values.reshape(-1,1),batch_size=64,epochs=50)\n",
        "  ypred_2 = model2.predict(test_pretrained)\n",
        "  ypred_2 = np.around(ypred_2)\n",
        "  result2 = cohen_kappa_score(y_test,ypred_2,weights='quadratic')\n",
        "  kappa_score_pretrain.append(result2)\n",
        "  model3.fit(train_pretrained,y_train.values.reshape(-1,1),batch_size=64,epochs=50)\n",
        "  ypred_3 = model3.predict(test_pretrained)\n",
        "  ypred_3 = np.around(ypred_3)\n",
        "  result3 = cohen_kappa_score(y_test,ypred_3,weights='quadratic')\n",
        "  kappa_score_pretrain.append(result3)\n",
        "  model4.fit(train_pretrained,y_train.values.reshape(-1,1),batch_size=64,epochs=50)\n",
        "  ypred_4 = model4.predict(test_pretrained)\n",
        "  ypred_4 = np.around(ypred_4)\n",
        "  result4 = cohen_kappa_score(y_test,ypred_4,weights='quadratic')\n",
        "  kappa_score_pretrain.append(result4)\n",
        "#---------------------------------Trained vectors--------------------------#\n",
        "  model3.fit(train_trained,y_train.values.reshape(-1,1),batch_size=64,epochs=50)\n",
        "  ypred_21 = model3.predict(test_trained)\n",
        "  ypred_21 = np.around(ypred_21)\n",
        "  result21 = cohen_kappa_score(y_test,ypred_21,weights='quadratic')\n",
        "  kappa_score_train.append(result21)\n",
        "#-----------------------------------Embedding vectors-------------------------------#\n",
        "  model5.fit(train_embedding,y_train.values.reshape(-1,1),batch_size=64,epochs=50)\n",
        "  ypred_31 = model5.predict(test_embedding)\n",
        "  ypred_31 = np.around(ypred_31)\n",
        "  result31 = cohen_kappa_score(y_test,ypred_31,weights='quadratic')\n",
        "  kappa_score_embedding.append(result31)\n",
        "pickle.dump(kappa_score_pretrain,open(\"file1.pickle\",\"rb\"))\n",
        "pickle.dump(kappa_score_train,open(\"file2.pickle\",\"wb\"))\n",
        "pickle.dump(kappa_score_embedding,open(\"file3.pickle\",\"wb\"))\n"
      ],
      "execution_count": 0,
      "outputs": []
    },
    {
      "cell_type": "code",
      "metadata": {
        "id": "UeQ3MXSo7SIC",
        "colab_type": "code",
        "colab": {
          "base_uri": "https://localhost:8080/",
          "height": 34
        },
        "outputId": "c34b2ba8-7847-44ed-b8bc-e08abb712fc9"
      },
      "source": [
        "print(\"Accuracy score for trained vectors model 3 \"+ str(np.sum(kappa_score_train)/5))"
      ],
      "execution_count": 66,
      "outputs": [
        {
          "output_type": "stream",
          "text": [
            "Accuracy score for trained vectors model 3 0.9631036890997183\n"
          ],
          "name": "stdout"
        }
      ]
    },
    {
      "cell_type": "code",
      "metadata": {
        "id": "c4NxQQz18VNi",
        "colab_type": "code",
        "colab": {}
      },
      "source": [
        "s1,s2,s3,s4=0,0,0,0\n",
        "for i in range(0,5):\n",
        "  s1+=pt[4*i]\n",
        "  s2+=pt[4*i+1]\n",
        "  s3+=pt[4*i+2]\n",
        "  s4+=pt[4*i+3]"
      ],
      "execution_count": 0,
      "outputs": []
    },
    {
      "cell_type": "code",
      "metadata": {
        "id": "lTOYvQj193cZ",
        "colab_type": "code",
        "colab": {
          "base_uri": "https://localhost:8080/",
          "height": 34
        },
        "outputId": "8345e819-d241-430e-d3e2-f9b6348b7d86"
      },
      "source": [
        "print(\"Accuracy score for pretrained vectors model 1 \" + str(s1/5))"
      ],
      "execution_count": 60,
      "outputs": [
        {
          "output_type": "stream",
          "text": [
            "Accuracy score for pretrained vectors model 1 0.9680721549776587\n"
          ],
          "name": "stdout"
        }
      ]
    },
    {
      "cell_type": "code",
      "metadata": {
        "id": "pAQ2mgXj95Xd",
        "colab_type": "code",
        "colab": {
          "base_uri": "https://localhost:8080/",
          "height": 34
        },
        "outputId": "7d838465-cdf2-465e-ee62-9d1f837004a9"
      },
      "source": [
        "print(\"Accuracy score for pretrained vectors model 2 \" + str(s2/5))"
      ],
      "execution_count": 61,
      "outputs": [
        {
          "output_type": "stream",
          "text": [
            "Accuracy score for pretrained vectors model 2 0.9640297094956518\n"
          ],
          "name": "stdout"
        }
      ]
    },
    {
      "cell_type": "code",
      "metadata": {
        "id": "Wi54gxrr96Py",
        "colab_type": "code",
        "colab": {
          "base_uri": "https://localhost:8080/",
          "height": 34
        },
        "outputId": "b24b5856-f554-4c6e-deb9-458fdb511166"
      },
      "source": [
        "print(\"Accuracy score for pretrained vectors model 3 \" + str(s3/5))"
      ],
      "execution_count": 62,
      "outputs": [
        {
          "output_type": "stream",
          "text": [
            "Accuracy score for pretrained vectors model 3 0.9683148498381282\n"
          ],
          "name": "stdout"
        }
      ]
    },
    {
      "cell_type": "code",
      "metadata": {
        "id": "6xDjNGnu96qz",
        "colab_type": "code",
        "colab": {
          "base_uri": "https://localhost:8080/",
          "height": 34
        },
        "outputId": "18c129b9-7d28-4709-dc00-1e9d221686dd"
      },
      "source": [
        "print(\"Accuracy score for pretrained vectors model 4 \" + str(s4/5))"
      ],
      "execution_count": 63,
      "outputs": [
        {
          "output_type": "stream",
          "text": [
            "Accuracy score for pretrained vectors model 4 0.9536714377736928\n"
          ],
          "name": "stdout"
        }
      ]
    },
    {
      "cell_type": "code",
      "metadata": {
        "id": "NDsSr_HRUq1r",
        "colab_type": "code",
        "colab": {
          "base_uri": "https://localhost:8080/",
          "height": 34
        },
        "outputId": "981f7f81-9f5e-4d4d-bab2-d959932bae30"
      },
      "source": [
        "print(\"accuracy score for self trained word embeddings = \"+str(kappa_score_embedding[0]))"
      ],
      "execution_count": 68,
      "outputs": [
        {
          "output_type": "stream",
          "text": [
            "accuracy score for self trained word embeddings = 0.9726917237214495\n"
          ],
          "name": "stdout"
        }
      ]
    },
    {
      "cell_type": "code",
      "metadata": {
        "id": "8I9sc_xwUu_D",
        "colab_type": "code",
        "colab": {}
      },
      "source": [
        "#---------------------------- RUnning our model on the test data provided by Kaggle--------------------------------------------------#\n",
        "test = pd.read_csv('test_set.tsv', encoding = \"ISO-8859-1\",sep='\\t')"
      ],
      "execution_count": 0,
      "outputs": []
    },
    {
      "cell_type": "code",
      "metadata": {
        "id": "VW-iM647VTvI",
        "colab_type": "code",
        "colab": {}
      },
      "source": [
        "#------------------------------ Converting test data into word vectors for our best performing model--------------------------------#\n",
        "test_set =convert_tokens_to_integers(test['essay'],m=maxlen) "
      ],
      "execution_count": 0,
      "outputs": []
    },
    {
      "cell_type": "code",
      "metadata": {
        "id": "aiENg1BoVhHf",
        "colab_type": "code",
        "colab": {}
      },
      "source": [
        "ytest=model5.predict(test_set[0])"
      ],
      "execution_count": 0,
      "outputs": []
    },
    {
      "cell_type": "code",
      "metadata": {
        "id": "2Y4W0F6WVzQ1",
        "colab_type": "code",
        "colab": {}
      },
      "source": [
        "test['domain_score_graded'] = np.around(ytest)"
      ],
      "execution_count": 0,
      "outputs": []
    },
    {
      "cell_type": "code",
      "metadata": {
        "id": "GW-w0SxYWFzu",
        "colab_type": "code",
        "colab": {
          "base_uri": "https://localhost:8080/",
          "height": 363
        },
        "outputId": "e19db216-5188-4dd7-a21d-dca134070d9e"
      },
      "source": [
        "test.head(10)"
      ],
      "execution_count": 56,
      "outputs": [
        {
          "output_type": "execute_result",
          "data": {
            "text/html": [
              "<div>\n",
              "<style scoped>\n",
              "    .dataframe tbody tr th:only-of-type {\n",
              "        vertical-align: middle;\n",
              "    }\n",
              "\n",
              "    .dataframe tbody tr th {\n",
              "        vertical-align: top;\n",
              "    }\n",
              "\n",
              "    .dataframe thead th {\n",
              "        text-align: right;\n",
              "    }\n",
              "</style>\n",
              "<table border=\"1\" class=\"dataframe\">\n",
              "  <thead>\n",
              "    <tr style=\"text-align: right;\">\n",
              "      <th></th>\n",
              "      <th>essay_id</th>\n",
              "      <th>essay_set</th>\n",
              "      <th>essay</th>\n",
              "      <th>domain1_predictionid</th>\n",
              "      <th>domain2_predictionid</th>\n",
              "      <th>domain_score_graded</th>\n",
              "    </tr>\n",
              "  </thead>\n",
              "  <tbody>\n",
              "    <tr>\n",
              "      <th>0</th>\n",
              "      <td>2383</td>\n",
              "      <td>1</td>\n",
              "      <td>I believe that computers have a positive effec...</td>\n",
              "      <td>2383</td>\n",
              "      <td>NaN</td>\n",
              "      <td>8.0</td>\n",
              "    </tr>\n",
              "    <tr>\n",
              "      <th>1</th>\n",
              "      <td>2384</td>\n",
              "      <td>1</td>\n",
              "      <td>Dear @CAPS1, I know some problems have came up...</td>\n",
              "      <td>2384</td>\n",
              "      <td>NaN</td>\n",
              "      <td>9.0</td>\n",
              "    </tr>\n",
              "    <tr>\n",
              "      <th>2</th>\n",
              "      <td>2385</td>\n",
              "      <td>1</td>\n",
              "      <td>Dear to whom it @MONTH1 concern, Computers are...</td>\n",
              "      <td>2385</td>\n",
              "      <td>NaN</td>\n",
              "      <td>6.0</td>\n",
              "    </tr>\n",
              "    <tr>\n",
              "      <th>3</th>\n",
              "      <td>2386</td>\n",
              "      <td>1</td>\n",
              "      <td>Dear @CAPS1 @CAPS2, @CAPS3 has come to my atte...</td>\n",
              "      <td>2386</td>\n",
              "      <td>NaN</td>\n",
              "      <td>9.0</td>\n",
              "    </tr>\n",
              "    <tr>\n",
              "      <th>4</th>\n",
              "      <td>2387</td>\n",
              "      <td>1</td>\n",
              "      <td>Dear Local newspaper, I think that people have...</td>\n",
              "      <td>2387</td>\n",
              "      <td>NaN</td>\n",
              "      <td>9.0</td>\n",
              "    </tr>\n",
              "    <tr>\n",
              "      <th>5</th>\n",
              "      <td>2388</td>\n",
              "      <td>1</td>\n",
              "      <td>Dear @CAPS1, @CAPS2 is in my firm belief that ...</td>\n",
              "      <td>2388</td>\n",
              "      <td>NaN</td>\n",
              "      <td>10.0</td>\n",
              "    </tr>\n",
              "    <tr>\n",
              "      <th>6</th>\n",
              "      <td>2389</td>\n",
              "      <td>1</td>\n",
              "      <td>Dear local newspaper, @CAPS1 your computer hav...</td>\n",
              "      <td>2389</td>\n",
              "      <td>NaN</td>\n",
              "      <td>8.0</td>\n",
              "    </tr>\n",
              "    <tr>\n",
              "      <th>7</th>\n",
              "      <td>2390</td>\n",
              "      <td>1</td>\n",
              "      <td>Dear @CAPS1, I agreed with the people that fee...</td>\n",
              "      <td>2390</td>\n",
              "      <td>NaN</td>\n",
              "      <td>7.0</td>\n",
              "    </tr>\n",
              "    <tr>\n",
              "      <th>8</th>\n",
              "      <td>2391</td>\n",
              "      <td>1</td>\n",
              "      <td>Dear @CAPS1 @CAPS2, I do not believe that comp...</td>\n",
              "      <td>2391</td>\n",
              "      <td>NaN</td>\n",
              "      <td>9.0</td>\n",
              "    </tr>\n",
              "    <tr>\n",
              "      <th>9</th>\n",
              "      <td>2392</td>\n",
              "      <td>1</td>\n",
              "      <td>Imagine that you walk into a friends home and ...</td>\n",
              "      <td>2392</td>\n",
              "      <td>NaN</td>\n",
              "      <td>9.0</td>\n",
              "    </tr>\n",
              "  </tbody>\n",
              "</table>\n",
              "</div>"
            ],
            "text/plain": [
              "   essay_id  essay_set  ... domain2_predictionid  domain_score_graded\n",
              "0      2383          1  ...                  NaN                  8.0\n",
              "1      2384          1  ...                  NaN                  9.0\n",
              "2      2385          1  ...                  NaN                  6.0\n",
              "3      2386          1  ...                  NaN                  9.0\n",
              "4      2387          1  ...                  NaN                  9.0\n",
              "5      2388          1  ...                  NaN                 10.0\n",
              "6      2389          1  ...                  NaN                  8.0\n",
              "7      2390          1  ...                  NaN                  7.0\n",
              "8      2391          1  ...                  NaN                  9.0\n",
              "9      2392          1  ...                  NaN                  9.0\n",
              "\n",
              "[10 rows x 6 columns]"
            ]
          },
          "metadata": {
            "tags": []
          },
          "execution_count": 56
        }
      ]
    },
    {
      "cell_type": "code",
      "metadata": {
        "id": "5fpThNTJWTTC",
        "colab_type": "code",
        "colab": {}
      },
      "source": [
        "test.to_csv('test_results.csv')"
      ],
      "execution_count": 0,
      "outputs": []
    }
  ]
}